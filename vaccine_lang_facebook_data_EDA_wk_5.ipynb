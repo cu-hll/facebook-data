{
  "nbformat": 4,
  "nbformat_minor": 0,
  "metadata": {
    "colab": {
      "name": "vaccine-lang/facebook-data EDA wk 5",
      "provenance": [],
      "authorship_tag": "ABX9TyPYWpalGiUEKf49otOBJXiF",
      "include_colab_link": true
    },
    "kernelspec": {
      "name": "python3",
      "display_name": "Python 3"
    },
    "language_info": {
      "name": "python"
    }
  },
  "cells": [
    {
      "cell_type": "markdown",
      "metadata": {
        "id": "view-in-github",
        "colab_type": "text"
      },
      "source": [
        "<a href=\"https://colab.research.google.com/github/vaccine-lang/facebook-data/blob/main/vaccine_lang_facebook_data_EDA_wk_5.ipynb\" target=\"_parent\"><img src=\"https://colab.research.google.com/assets/colab-badge.svg\" alt=\"Open In Colab\"/></a>"
      ]
    },
    {
      "cell_type": "markdown",
      "metadata": {
        "id": "E0iq-2xISsNO"
      },
      "source": [
        "# Exploratory Data Analysis on Facebook Data (Week 5)\n",
        "\n",
        "This week, we turn the reins over to the group as a whole. Below is the code to download four separate csv files, each one a collection of posts by either a set of Facebook groups or Facebook pages that we found to be vaccine hesitant.\n",
        "\n"
      ]
    },
    {
      "cell_type": "markdown",
      "metadata": {
        "id": "Bpg4Hl6pTDKO"
      },
      "source": [
        "## Establish the environment and download the data"
      ]
    },
    {
      "cell_type": "code",
      "metadata": {
        "id": "tTL-zkNQ5NHj"
      },
      "source": [
        "# Import common libraries\n",
        "import pandas as pd\n",
        "import numpy as np\n",
        "import os"
      ],
      "execution_count": null,
      "outputs": []
    },
    {
      "cell_type": "code",
      "metadata": {
        "id": "7Z-CL35aJRb4"
      },
      "source": [
        "# Import data files from GitHub\n",
        "\n",
        "# Set remote (GitHub) and local paths for the data files\n",
        "GITHUB_ROOT = \"https://raw.githubusercontent.com/vaccine-lang/facebook-data/main\"\n",
        "BASE_DIR = \"/\"\n",
        "print(f'Files will be downloaded from \"{GITHUB_ROOT}\"')\n",
        "print(f'Files will be downloaded to \"{BASE_DIR}\".')\n",
        "\n",
        "# Download each file\n",
        "file_names = [\"groups-1\", \"groups-2\", \"pages-1\", \"pages-2\"]\n",
        "print(\"Downloading data\")\n",
        "for name in file_names:\n",
        "  cmd = \" \".join(['wget', '-P', os.path.dirname(BASE_DIR + name + \".csv\"), GITHUB_ROOT + \"/data/biased-\" + name + \".csv\"])\n",
        "  print(\"!\"+cmd)\n",
        "  if os.system(cmd) != 0:\n",
        "    print('  ~~> ERROR')\n"
      ],
      "execution_count": null,
      "outputs": []
    },
    {
      "cell_type": "markdown",
      "metadata": {
        "id": "BOGdzVERTHnj"
      },
      "source": [
        "## Begin exploratory data analysis"
      ]
    },
    {
      "cell_type": "code",
      "metadata": {
        "id": "cPaoxgGEOQds"
      },
      "source": [
        "# Convert the CSVs into Data Frames"
      ],
      "execution_count": null,
      "outputs": []
    },
    {
      "cell_type": "code",
      "metadata": {
        "id": "5JYZLI4sSbgR"
      },
      "source": [
        "# What sorts of things would we want to know about this data?"
      ],
      "execution_count": null,
      "outputs": []
    }
  ]
}