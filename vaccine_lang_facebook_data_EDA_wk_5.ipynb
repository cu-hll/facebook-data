{
  "nbformat": 4,
  "nbformat_minor": 0,
  "metadata": {
    "colab": {
      "name": "vaccine-lang/facebook-data EDA wk 5",
      "provenance": [],
      "authorship_tag": "ABX9TyNHEEGIjrq7RZR3TUgXvD38",
      "include_colab_link": true
    },
    "kernelspec": {
      "name": "python3",
      "display_name": "Python 3"
    },
    "language_info": {
      "name": "python"
    }
  },
  "cells": [
    {
      "cell_type": "markdown",
      "metadata": {
        "id": "view-in-github",
        "colab_type": "text"
      },
      "source": [
        "<a href=\"https://colab.research.google.com/github/vaccine-lang/facebook-data/blob/main/vaccine_lang_facebook_data_EDA_wk_5.ipynb\" target=\"_parent\"><img src=\"https://colab.research.google.com/assets/colab-badge.svg\" alt=\"Open In Colab\"/></a>"
      ]
    },
    {
      "cell_type": "markdown",
      "metadata": {
        "id": "E0iq-2xISsNO"
      },
      "source": [
        "# Exploratory Data Analysis on Facebook Data (Week 5)\n",
        "\n",
        "This week, we turn the reins over to the group as a whole. Below is the code to download four separate csv files, each one a collection of posts by either a set of Facebook groups or Facebook pages that we found to be vaccine hesitant.\n",
        "\n"
      ]
    },
    {
      "cell_type": "markdown",
      "metadata": {
        "id": "Bpg4Hl6pTDKO"
      },
      "source": [
        "## Establish the environment and download the data"
      ]
    },
    {
      "cell_type": "code",
      "metadata": {
        "id": "tTL-zkNQ5NHj"
      },
      "source": [
        "# Import common libraries\n",
        "import pandas as pd\n",
        "import numpy as np\n",
        "import os\n",
        "import pprint as pp"
      ],
      "execution_count": 36,
      "outputs": []
    },
    {
      "cell_type": "code",
      "metadata": {
        "id": "7Z-CL35aJRb4",
        "colab": {
          "base_uri": "https://localhost:8080/"
        },
        "outputId": "40750ca4-49a5-4994-dc60-0a473cea5796"
      },
      "source": [
        "# Import data files from GitHub\n",
        "\n",
        "# Set remote (GitHub) and local paths for the data files\n",
        "GITHUB_ROOT = \"https://raw.githubusercontent.com/vaccine-lang/facebook-data/main\"\n",
        "BASE_DIR = \"/\"\n",
        "print(f'Files will be downloaded from \"{GITHUB_ROOT}\"')\n",
        "print(f'Files will be downloaded to \"{BASE_DIR}\".')\n",
        "\n",
        "# Download each file\n",
        "file_names = [\"groups-1\", \"groups-2\", \"pages-1\", \"pages-2\"]\n",
        "print(\"Downloading data\")\n",
        "for name in file_names:\n",
        "  cmd = \" \".join(['wget', '-P', os.path.dirname(BASE_DIR + name + \".csv\"), GITHUB_ROOT + \"/data/biased-\" + name + \".csv\"])\n",
        "  print(\"!\"+cmd)\n",
        "  if os.system(cmd) != 0:\n",
        "    print('  ~~> ERROR')\n"
      ],
      "execution_count": 2,
      "outputs": [
        {
          "output_type": "stream",
          "text": [
            "Files will be downloaded from \"https://raw.githubusercontent.com/vaccine-lang/facebook-data/main\"\n",
            "Files will be downloaded to \"/\".\n",
            "Downloading data\n",
            "!wget -P / https://raw.githubusercontent.com/vaccine-lang/facebook-data/main/data/biased-groups-1.csv\n",
            "!wget -P / https://raw.githubusercontent.com/vaccine-lang/facebook-data/main/data/biased-groups-2.csv\n",
            "!wget -P / https://raw.githubusercontent.com/vaccine-lang/facebook-data/main/data/biased-pages-1.csv\n",
            "!wget -P / https://raw.githubusercontent.com/vaccine-lang/facebook-data/main/data/biased-pages-2.csv\n"
          ],
          "name": "stdout"
        }
      ]
    },
    {
      "cell_type": "markdown",
      "metadata": {
        "id": "BOGdzVERTHnj"
      },
      "source": [
        "## Begin exploratory data analysis"
      ]
    },
    {
      "cell_type": "code",
      "metadata": {
        "id": "cPaoxgGEOQds",
        "colab": {
          "base_uri": "https://localhost:8080/"
        },
        "outputId": "a1ed3ce9-8374-4012-fead-d4db3ff30779"
      },
      "source": [
        "# Convert the CSVs into Data Frames\n",
        "\n",
        "data = {}\n",
        "\n",
        "for name in file_names:\n",
        "  posts_file = \"biased-\" + name + \".csv\"\n",
        "  print(posts_file)\n",
        "  data[name] = pd.read_csv(posts_file)\n",
        "\n",
        "\n",
        "\n",
        "\n",
        "# posts_file = \"\"\n",
        "# posts_df = pd.read_csv(posts_file)"
      ],
      "execution_count": 11,
      "outputs": [
        {
          "output_type": "stream",
          "text": [
            "biased-groups-1.csv\n"
          ],
          "name": "stdout"
        },
        {
          "output_type": "stream",
          "text": [
            "/usr/local/lib/python3.7/dist-packages/IPython/core/interactiveshell.py:2718: DtypeWarning: Columns (13) have mixed types.Specify dtype option on import or set low_memory=False.\n",
            "  interactivity=interactivity, compiler=compiler, result=result)\n"
          ],
          "name": "stderr"
        },
        {
          "output_type": "stream",
          "text": [
            "biased-groups-2.csv\n",
            "biased-pages-1.csv\n",
            "biased-pages-2.csv\n"
          ],
          "name": "stdout"
        },
        {
          "output_type": "stream",
          "text": [
            "/usr/local/lib/python3.7/dist-packages/IPython/core/interactiveshell.py:2718: DtypeWarning: Columns (13,37,38,39) have mixed types.Specify dtype option on import or set low_memory=False.\n",
            "  interactivity=interactivity, compiler=compiler, result=result)\n"
          ],
          "name": "stderr"
        }
      ]
    },
    {
      "cell_type": "code",
      "metadata": {
        "colab": {
          "base_uri": "https://localhost:8080/"
        },
        "id": "XrPNnSgKt4Cx",
        "outputId": "997eba56-9e54-40eb-a397-5200f698c206"
      },
      "source": [
        "for name in file_names:\n",
        "  print(name)\n",
        "  print(data[name].columns)"
      ],
      "execution_count": 14,
      "outputs": [
        {
          "output_type": "stream",
          "text": [
            "groups-1\n",
            "Index(['Group Name', 'User Name', 'Facebook Id', 'Page Category',\n",
            "       'Page Admin Top Country', 'Page Description', 'Page Created',\n",
            "       'Likes at Posting', 'Followers at Posting', 'Post Created',\n",
            "       'Post Created Date', 'Post Created Time', 'Type', 'Total Interactions',\n",
            "       'Likes', 'Comments', 'Shares', 'Love', 'Wow', 'Haha', 'Sad', 'Angry',\n",
            "       'Care', 'Video Share Status', 'Is Video Owner?', 'Post Views',\n",
            "       'Total Views', 'Total Views For All Crossposts', 'Video Length', 'URL',\n",
            "       'Message', 'Link', 'Final Link', 'Image Text', 'Link Text',\n",
            "       'Description', 'Sponsor Id', 'Sponsor Name', 'Sponsor Category',\n",
            "       'Overperforming Score (weighted  —  Likes 1x Shares 1x Comments 1x Love 1x Wow 1x Haha 1x Sad 1x Angry 1x Care 1x )'],\n",
            "      dtype='object')\n",
            "groups-2\n",
            "Index(['Group Name', 'User Name', 'Facebook Id', 'Page Category',\n",
            "       'Page Admin Top Country', 'Page Description', 'Page Created',\n",
            "       'Likes at Posting', 'Followers at Posting', 'Post Created',\n",
            "       'Post Created Date', 'Post Created Time', 'Type', 'Total Interactions',\n",
            "       'Likes', 'Comments', 'Shares', 'Love', 'Wow', 'Haha', 'Sad', 'Angry',\n",
            "       'Care', 'Video Share Status', 'Is Video Owner?', 'Post Views',\n",
            "       'Total Views', 'Total Views For All Crossposts', 'Video Length', 'URL',\n",
            "       'Message', 'Link', 'Final Link', 'Image Text', 'Link Text',\n",
            "       'Description', 'Sponsor Id', 'Sponsor Name', 'Sponsor Category',\n",
            "       'Total Interactions (weighted  —  Likes 1x Shares 1x Comments 1x Love 1x Wow 1x Haha 1x Sad 1x Angry 1x Care 1x )',\n",
            "       'Overperforming Score'],\n",
            "      dtype='object')\n",
            "pages-1\n",
            "Index(['Page Name', 'User Name', 'Facebook Id', 'Page Category',\n",
            "       'Page Admin Top Country', 'Page Description', 'Page Created',\n",
            "       'Likes at Posting', 'Followers at Posting', 'Post Created',\n",
            "       'Post Created Date', 'Post Created Time', 'Type', 'Total Interactions',\n",
            "       'Likes', 'Comments', 'Shares', 'Love', 'Wow', 'Haha', 'Sad', 'Angry',\n",
            "       'Care', 'Video Share Status', 'Is Video Owner?', 'Post Views',\n",
            "       'Total Views', 'Total Views For All Crossposts', 'Video Length', 'URL',\n",
            "       'Message', 'Link', 'Final Link', 'Image Text', 'Link Text',\n",
            "       'Description', 'Sponsor Id', 'Sponsor Name', 'Sponsor Category',\n",
            "       'Overperforming Score (weighted  —  Likes 1x Shares 1x Comments 1x Love 1x Wow 1x Haha 1x Sad 1x Angry 1x Care 1x )'],\n",
            "      dtype='object')\n",
            "pages-2\n",
            "Index(['Page Name', 'User Name', 'Facebook Id', 'Page Category',\n",
            "       'Page Admin Top Country', 'Page Description', 'Page Created',\n",
            "       'Likes at Posting', 'Followers at Posting', 'Post Created',\n",
            "       'Post Created Date', 'Post Created Time', 'Type', 'Total Interactions',\n",
            "       'Likes', 'Comments', 'Shares', 'Love', 'Wow', 'Haha', 'Sad', 'Angry',\n",
            "       'Care', 'Video Share Status', 'Is Video Owner?', 'Post Views',\n",
            "       'Total Views', 'Total Views For All Crossposts', 'Video Length', 'URL',\n",
            "       'Message', 'Link', 'Final Link', 'Image Text', 'Link Text',\n",
            "       'Description', 'Sponsor Id', 'Sponsor Name', 'Sponsor Category',\n",
            "       'Total Interactions (weighted  —  Likes 1x Shares 1x Comments 1x Love 1x Wow 1x Haha 1x Sad 1x Angry 1x Care 1x )',\n",
            "       'Overperforming Score'],\n",
            "      dtype='object')\n"
          ],
          "name": "stdout"
        }
      ]
    },
    {
      "cell_type": "code",
      "metadata": {
        "colab": {
          "base_uri": "https://localhost:8080/"
        },
        "id": "cR6NrIURtOns",
        "outputId": "1380512e-dedd-459f-d98b-99387ded37e0"
      },
      "source": [
        "# column = \"Message\"\n",
        "# print(len(data[\"groups-1\"]))\n",
        "# print(pd.unique(data[\"groups-1\"][column].values))\n",
        "\n",
        "# print(len(pd.unique(data[\"groups-1\"][column].values)))\n",
        "\n",
        "data[\"groups-1\"][\"Message\"].dropna().sample(15)"
      ],
      "execution_count": 32,
      "outputs": [
        {
          "output_type": "execute_result",
          "data": {
            "text/plain": [
              "21664    Hey. Would anyone know anything about storing ...\n",
              "19064    https://www.facebook.com/groups/911conspiracyt...\n",
              "32869                       Is the Corona Virus Man Made? \n",
              "4110     Please take part in this urgent ‘Call to Actio...\n",
              "733                              Why wasn't this on MSM???\n",
              "16356                                          DAN MUST GO\n",
              "9482                                              🤬🤬😡🤬😡🤬😡😡\n",
              "19720             Crooked Mongrels cannot help themselves?\n",
              "22415    I hope this isn’t off topic. Does anyone know ...\n",
              "27348                                               arnica\n",
              "33713    Has anyone any reviews on Thiosinaminum cream ...\n",
              "18347    Please can someone help settle my mind. I am a...\n",
              "17273    https://www.facebook.com/beckerfornd/videos/65...\n",
              "28967    Is sourdough bread ok to have? No pesticides? ...\n",
              "12639    Monday, 10/12/20. 7:00 PM, Eastern time. Presi...\n",
              "Name: Message, dtype: object"
            ]
          },
          "metadata": {
            "tags": []
          },
          "execution_count": 32
        }
      ]
    },
    {
      "cell_type": "code",
      "metadata": {
        "colab": {
          "base_uri": "https://localhost:8080/"
        },
        "id": "SgVkVV7hycSR",
        "outputId": "7050a601-3a70-4192-c281-78adc840fec1"
      },
      "source": [
        "ids = [21664, 19064, 32869, 4110, 733, 16356, 9482, 19720, 22415, 27348, 33713, 18347, 17273, 28967, 12639]\n",
        "for id in ids:\n",
        "  pp.pprint(data[\"groups-1\"].iloc[id][\"Message\"])\n"
      ],
      "execution_count": 38,
      "outputs": [
        {
          "output_type": "stream",
          "text": [
            "('Hey. Would anyone know anything about storing a newborns stem cells from the '\n",
            " 'umbilical cord or if this is a worthwhile process? Thanks')\n",
            "'https://www.facebook.com/groups/911conspiracytheoriesareaninsidejob/permalink/3427570800669947/'\n",
            "'Is the Corona Virus Man Made? '\n",
            "('Please take part in this urgent ‘Call to Action’ by copying and pasting the '\n",
            " 'text on link below and sending to your MP and listed copy addressees. If we '\n",
            " 'don’t do it, they will think we are all happy about the announcement.')\n",
            "\"Why wasn't this on MSM???\"\n",
            "'DAN MUST GO'\n",
            "'🤬🤬😡🤬😡🤬😡😡'\n",
            "'Crooked Mongrels cannot help themselves?'\n",
            "('I hope this isn’t off topic. Does anyone know of a cheap of free smear test '\n",
            " 'service (not my gp) in England or wales (cheap meaning £100 or under). '\n",
            " 'Please no debates about smear tests TIA 👍')\n",
            "'arnica'\n",
            "('Has anyone any reviews on Thiosinaminum cream for a wound to reduce '\n",
            " 'scarring?Does it help? I have found one that has it and also rosehip oil and '\n",
            " 'calendula in the cream')\n",
            "('Please can someone help settle my mind. I am a dance teacher and on a group '\n",
            " 'discussing the cleaning in studios when going back to work. A person has '\n",
            " 'discussed the use of a fog machine 😢 plus all the other highly toxic '\n",
            " 'chemicals they will be using constantly. Does anyone have any links or '\n",
            " 'wording that may help them re think their decision to use these machines')\n",
            "'https://www.facebook.com/beckerfornd/videos/652871862016473/'\n",
            "'Is sourdough bread ok to have? No pesticides? Spelt or multi grain rye?'\n",
            "('Monday, 10/12/20. 7:00 PM, Eastern time. President Trump Peaceful Protest, '\n",
            " 'Florida.')\n"
          ],
          "name": "stdout"
        }
      ]
    },
    {
      "cell_type": "code",
      "metadata": {
        "colab": {
          "base_uri": "https://localhost:8080/"
        },
        "id": "LFauSd7mz7_I",
        "outputId": "21681830-708e-4230-ab90-cade7e8e98f7"
      },
      "source": [
        "print(data[\"groups-1\"].iloc[19720][\"Image Text\"])\n",
        "\n",
        "# How do we handle the relationships between the Message, \n",
        "# Image Text, Link Text, and Description?\n",
        "\n"
      ],
      "execution_count": 42,
      "outputs": [
        {
          "output_type": "stream",
          "text": [
            "34965\n"
          ],
          "name": "stdout"
        }
      ]
    },
    {
      "cell_type": "code",
      "metadata": {
        "id": "kh3rLNZB2VSD",
        "outputId": "76487e82-2e35-4312-d4b6-bfc2f5b9fea3",
        "colab": {
          "base_uri": "https://localhost:8080/"
        }
      },
      "source": [
        "print(data[\"groups-1\"][\"Group Name\"].value_counts())\n",
        "for name in file_names:\n",
        "  print(len(data[name]))"
      ],
      "execution_count": 45,
      "outputs": [
        {
          "output_type": "stream",
          "text": [
            "wake up Australia                                                18958\n",
            "Arnica - Parents' Support Network, Promoting Natural Immunity     9117\n",
            "New Yorkers for Medical Freedom and Parental Rights               2680\n",
            "Christians rejecting Covid-19 Vaccine                             1561\n",
            "Vaccine Induced Autoimmune Disease                                1350\n",
            "❤️ The rEvolution! ✊                                               729\n",
            "Anti Mask Anti vaccine Pro Freedom                                 495\n",
            "Christopher Bunch's support page                                    75\n",
            "Name: Group Name, dtype: int64\n",
            "34965\n",
            "145221\n",
            "10793\n",
            "18310\n"
          ],
          "name": "stdout"
        }
      ]
    },
    {
      "cell_type": "code",
      "metadata": {
        "id": "5JYZLI4sSbgR"
      },
      "source": [
        "# What sorts of things would we want to know about this data?"
      ],
      "execution_count": null,
      "outputs": []
    }
  ]
}