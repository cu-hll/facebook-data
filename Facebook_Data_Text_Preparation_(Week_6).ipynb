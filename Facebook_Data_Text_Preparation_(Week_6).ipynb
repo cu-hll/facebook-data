{
  "nbformat": 4,
  "nbformat_minor": 0,
  "metadata": {
    "colab": {
      "name": "Facebook Data Text Preparation (Week 6)",
      "provenance": [],
      "authorship_tag": "ABX9TyMJRYVPIGdpgrl3JULLuCaN",
      "include_colab_link": true
    },
    "kernelspec": {
      "name": "python3",
      "display_name": "Python 3"
    },
    "language_info": {
      "name": "python"
    }
  },
  "cells": [
    {
      "cell_type": "markdown",
      "metadata": {
        "id": "view-in-github",
        "colab_type": "text"
      },
      "source": [
        "<a href=\"https://colab.research.google.com/github/vaccine-lang/facebook-data/blob/main/Facebook_Data_Text_Preparation_(Week_6).ipynb\" target=\"_parent\"><img src=\"https://colab.research.google.com/assets/colab-badge.svg\" alt=\"Open In Colab\"/></a>"
      ]
    },
    {
      "cell_type": "markdown",
      "metadata": {
        "id": "HdQe_5l1qu8A"
      },
      "source": [
        "# Facebook Data Text Preparation (Week 6)\n",
        "\n",
        "Still turning over the reins to the group as a whole, this week we will put the Facebook data into a pipeline.\n"
      ]
    },
    {
      "cell_type": "code",
      "metadata": {
        "id": "tkDaEqBKqqjE"
      },
      "source": [
        "# If Colab doesn't have Textacy installed:\n",
        "#!pip install textacy\n",
        "\n",
        "# Import common libraries\n",
        "import pandas as pd\n",
        "import numpy as np\n",
        "import os\n",
        "import pprint as pp\n",
        "import re\n",
        "import textacy.preprocessing as tprep\n",
        "import unicodedata\n",
        "import spacy"
      ],
      "execution_count": null,
      "outputs": []
    },
    {
      "cell_type": "code",
      "metadata": {
        "colab": {
          "base_uri": "https://localhost:8080/"
        },
        "id": "RhQw4aiBrLaq",
        "outputId": "3b7a135e-6e78-4b13-eb7d-e97b5c007002"
      },
      "source": [
        "# Import data files from GitHub\n",
        "\n",
        "# Set remote (GitHub) and local paths for the data files\n",
        "GITHUB_ROOT = \"https://raw.githubusercontent.com/vaccine-lang/facebook-data/main\"\n",
        "BASE_DIR = \"/\"\n",
        "print(f'Files will be downloaded from \"{GITHUB_ROOT}\"')\n",
        "print(f'Files will be downloaded to \"{BASE_DIR}\".')\n",
        "\n",
        "# Download each file\n",
        "file_names = [\"groups-1\", \"groups-2\", \"pages-1\", \"pages-2\"]\n",
        "print(\"Downloading data\")\n",
        "for name in file_names:\n",
        "  cmd = \" \".join(['wget', '-P', os.path.dirname(BASE_DIR + name + \".csv\"), GITHUB_ROOT + \"/data/biased-\" + name + \".csv\"])\n",
        "  print(\"!\"+cmd)\n",
        "  if os.system(cmd) != 0:\n",
        "    print('  ~~> ERROR')\n",
        "\n",
        "# Convert the CSVs into Data Frames\n",
        "\n",
        "data = {}\n",
        "for name in file_names:\n",
        "  posts_file = \"biased-\" + name + \".csv\"\n",
        "  print(posts_file)\n",
        "  data[name] = pd.read_csv(posts_file)"
      ],
      "execution_count": null,
      "outputs": [
        {
          "output_type": "stream",
          "text": [
            "Files will be downloaded from \"https://raw.githubusercontent.com/vaccine-lang/facebook-data/main\"\n",
            "Files will be downloaded to \"/\".\n",
            "Downloading data\n",
            "!wget -P / https://raw.githubusercontent.com/vaccine-lang/facebook-data/main/data/biased-groups-1.csv\n",
            "!wget -P / https://raw.githubusercontent.com/vaccine-lang/facebook-data/main/data/biased-groups-2.csv\n",
            "!wget -P / https://raw.githubusercontent.com/vaccine-lang/facebook-data/main/data/biased-pages-1.csv\n",
            "!wget -P / https://raw.githubusercontent.com/vaccine-lang/facebook-data/main/data/biased-pages-2.csv\n",
            "biased-groups-1.csv\n"
          ],
          "name": "stdout"
        },
        {
          "output_type": "stream",
          "text": [
            "/usr/local/lib/python3.7/dist-packages/IPython/core/interactiveshell.py:2718: DtypeWarning: Columns (13) have mixed types.Specify dtype option on import or set low_memory=False.\n",
            "  interactivity=interactivity, compiler=compiler, result=result)\n"
          ],
          "name": "stderr"
        },
        {
          "output_type": "stream",
          "text": [
            "biased-groups-2.csv\n",
            "biased-pages-1.csv\n",
            "biased-pages-2.csv\n"
          ],
          "name": "stdout"
        },
        {
          "output_type": "stream",
          "text": [
            "/usr/local/lib/python3.7/dist-packages/IPython/core/interactiveshell.py:2718: DtypeWarning: Columns (13,37,38,39) have mixed types.Specify dtype option on import or set low_memory=False.\n",
            "  interactivity=interactivity, compiler=compiler, result=result)\n"
          ],
          "name": "stderr"
        }
      ]
    },
    {
      "cell_type": "markdown",
      "metadata": {
        "id": "mKnOOAOtsBBT"
      },
      "source": [
        "## Reshape Data\n",
        "\n",
        "The Facebook data is separated into four files, two each for pages and groups. We only want one file, however. \n",
        "\n",
        "Also, we don't care about the extraneous data. We only want text. However, initial exploratory data analysis (see previous Colab) indicated that there is no consistent field for the text of what was shared to Facebook. Instead, there seem to be four fields, `Message`, `Image Text`, `Link Text`, and `Description`, that carry content that may interest us.\n",
        "\n",
        "Let's reduce each data frame to just those four fields and then merge (concatenate) them together."
      ]
    },
    {
      "cell_type": "code",
      "metadata": {
        "id": "mLIbnkyorOmK"
      },
      "source": [
        "interesting_columns = [\"Message\", \"Image Text\", \"Link Text\", \"Description\"]\n",
        "\n",
        "df = pd.concat([data[key][interesting_columns] for key in file_names], ignore_index=True)\n",
        "\n",
        "# Let's rename the columns.\n",
        "new_columns = [\"message\", \"imageText\", \"linkText\", \"linkDescription\"]\n",
        "df.columns = new_columns\n",
        "\n",
        "# Since NaN is type \"float\", which won't work in the join below,\n",
        "# let's convert all the NaNs to \"\".\n",
        "df.fillna(\"\", inplace=True)\n",
        "\n",
        "# and let's concatenate the columns into a new column, \n",
        "# so we capture all of the data as a single text object.\n",
        "df[\"text\"] = df.apply(lambda row: \" \".join([row[column] for column in new_columns]), axis=1)"
      ],
      "execution_count": null,
      "outputs": []
    },
    {
      "cell_type": "markdown",
      "metadata": {
        "id": "HJLuPUW9Aycz"
      },
      "source": [
        "## Text \"Cleaning\"\n",
        "\n",
        "Now that all of the text for the entire corpus is in one dataframe (and one column, to boot), we can start \"cleaning\" the text following the graphic on page 90. This involves:\n",
        "\n",
        "* identifying noise\n",
        "* removing noise\n",
        "* normalizing characters\n",
        "* masking data"
      ]
    },
    {
      "cell_type": "markdown",
      "metadata": {
        "id": "RPG9AjH9BhtJ"
      },
      "source": [
        "### Identifying Noise\n",
        "\n",
        "Let's use the `impurity` function from the book to get a sense of how \"impure\" the each message is."
      ]
    },
    {
      "cell_type": "code",
      "metadata": {
        "colab": {
          "base_uri": "https://localhost:8080/",
          "height": 283
        },
        "id": "63ppIZ43wEO0",
        "outputId": "3f176424-aaba-4e29-dc93-38fba41abfbe"
      },
      "source": [
        "RE_SUSPICIOUS = re.compile(r'[&#<>\\[\\]\\\\]')\n",
        "\n",
        "def impurity(text, min_len=10):\n",
        "  \"\"\"returns the share of suspicious characters in a text\"\"\"\n",
        "  if text == None or len(text) < min_len:\n",
        "    return 0\n",
        "  else:\n",
        "    return len(RE_SUSPICIOUS.findall(text))/len(text)\n",
        "\n",
        "df[\"impurity\"] = df[\"text\"].apply(impurity, min_len=50)\n",
        "df[\"impurity\"].hist()"
      ],
      "execution_count": null,
      "outputs": [
        {
          "output_type": "execute_result",
          "data": {
            "text/plain": [
              "<matplotlib.axes._subplots.AxesSubplot at 0x7f924dbe49d0>"
            ]
          },
          "metadata": {
            "tags": []
          },
          "execution_count": 6
        },
        {
          "output_type": "display_data",
          "data": {
            "image/png": "[encoded data removed]",
            "text/plain": [
              "<Figure size 432x288 with 1 Axes>"
            ]
          },
          "metadata": {
            "tags": [],
            "needs_background": "light"
          }
        }
      ]
    },
    {
      "cell_type": "markdown",
      "metadata": {
        "id": "fz5bsWLNDTrH"
      },
      "source": [
        "The text is rather \"pure,\" in that does not have many instances of `&`, `#`, `<`, `>`, `[`, `]`, and `\\`. All the same, let's see the top \"impure\" posts:"
      ]
    },
    {
      "cell_type": "code",
      "metadata": {
        "colab": {
          "base_uri": "https://localhost:8080/",
          "height": 198
        },
        "id": "KH1yUWwMwN9T",
        "outputId": "c38f98af-c7ac-4b7f-a6b2-b92913c4efcc"
      },
      "source": [
        "df[[\"text\", \"impurity\"]].sort_values(by=\"impurity\", ascending=False).head()"
      ],
      "execution_count": null,
      "outputs": [
        {
          "output_type": "execute_result",
          "data": {
            "text/html": [
              "<div>\n",
              "<style scoped>\n",
              "    .dataframe tbody tr th:only-of-type {\n",
              "        vertical-align: middle;\n",
              "    }\n",
              "\n",
              "    .dataframe tbody tr th {\n",
              "        vertical-align: top;\n",
              "    }\n",
              "\n",
              "    .dataframe thead th {\n",
              "        text-align: right;\n",
              "    }\n",
              "</style>\n",
              "<table border=\"1\" class=\"dataframe\">\n",
              "  <thead>\n",
              "    <tr style=\"text-align: right;\">\n",
              "      <th></th>\n",
              "      <th>text</th>\n",
              "      <th>impurity</th>\n",
              "    </tr>\n",
              "  </thead>\n",
              "  <tbody>\n",
              "    <tr>\n",
              "      <th>163920</th>\n",
              "      <td>Victory Loves Preparation. &lt;3 &lt;3 &lt;3 &lt;3 &lt;3 &lt;3 &lt;...</td>\n",
              "      <td>0.160714</td>\n",
              "    </tr>\n",
              "    <tr>\n",
              "      <th>57863</th>\n",
              "      <td>Wayne #The #Truth #Against #The #Trolls #Lie...</td>\n",
              "      <td>0.133333</td>\n",
              "    </tr>\n",
              "    <tr>\n",
              "      <th>46784</th>\n",
              "      <td>Wayne #The #Truth #NOT #CHANNEL9 #Bias  #Ver...</td>\n",
              "      <td>0.120000</td>\n",
              "    </tr>\n",
              "    <tr>\n",
              "      <th>59190</th>\n",
              "      <td>Wayne #My #Answer to the #Lying #Fake #News ...</td>\n",
              "      <td>0.115385</td>\n",
              "    </tr>\n",
              "    <tr>\n",
              "      <th>84709</th>\n",
              "      <td>#peace #training #canada #saturday #freedom #m...</td>\n",
              "      <td>0.106061</td>\n",
              "    </tr>\n",
              "  </tbody>\n",
              "</table>\n",
              "</div>"
            ],
            "text/plain": [
              "                                                     text  impurity\n",
              "163920  Victory Loves Preparation. <3 <3 <3 <3 <3 <3 <...  0.160714\n",
              "57863     Wayne #The #Truth #Against #The #Trolls #Lie...  0.133333\n",
              "46784     Wayne #The #Truth #NOT #CHANNEL9 #Bias  #Ver...  0.120000\n",
              "59190     Wayne #My #Answer to the #Lying #Fake #News ...  0.115385\n",
              "84709   #peace #training #canada #saturday #freedom #m...  0.106061"
            ]
          },
          "metadata": {
            "tags": []
          },
          "execution_count": 7
        }
      ]
    },
    {
      "cell_type": "markdown",
      "metadata": {
        "id": "WyimB_jdD-h3"
      },
      "source": [
        "What do we think?"
      ]
    },
    {
      "cell_type": "markdown",
      "metadata": {
        "id": "wmjt--K5BIaN"
      },
      "source": [
        ""
      ]
    },
    {
      "cell_type": "markdown",
      "metadata": {
        "id": "l-FEtrbS-cUo"
      },
      "source": [
        "### Normalizing with Textacy\n",
        "\n",
        "Given how \"clean\" the text seems, we can move to normalizing with textacy as indicated in the text on p. 99. All of the available Textacy preprocessing functions are listed [on their API documentation website](https://textacy.readthedocs.io/en/latest/api_reference/preprocessing.html#replace).\n",
        "\n",
        "But first, let's solve the emoji problem so we can add a solution into the pipeline. Last week, we discussed how it seems wrong to just remove them. And even textacy proposes replacing any emoji with _EMOJI_. But maybe we can replace emoji with their unicode names."
      ]
    },
    {
      "cell_type": "code",
      "metadata": {
        "colab": {
          "base_uri": "https://localhost:8080/"
        },
        "id": "VwhJf50MB9m5",
        "outputId": "9651dc2b-732a-41a1-eed7-0cc8b22d8a7b"
      },
      "source": [
        "emoji = \"🤬\"\n",
        "\n",
        "# Every emoji has a unicode description:\n",
        "print(unicodedata.name(emoji))"
      ],
      "execution_count": null,
      "outputs": [
        {
          "output_type": "stream",
          "text": [
            "SERIOUS FACE WITH SYMBOLS COVERING MOUTH\n"
          ],
          "name": "stdout"
        }
      ]
    },
    {
      "cell_type": "code",
      "metadata": {
        "colab": {
          "base_uri": "https://localhost:8080/",
          "height": 35
        },
        "id": "ftf3nQk3FBRG",
        "outputId": "481e26e7-3543-4e6a-9f89-82bd8a06515f"
      },
      "source": [
        "# We can use this function, then, with textacy's emoji replace function to replace the emoji.\n",
        "\n",
        "test_text = \"🤬 new lines, many lettering sets 爱, and even emoji 🤠\"\n",
        "tprep.replace.emojis(test_text, lambda reMatch: unicodedata.name(reMatch[0]))"
      ],
      "execution_count": null,
      "outputs": [
        {
          "output_type": "execute_result",
          "data": {
            "application/vnd.google.colaboratory.intrinsic+json": {
              "type": "string"
            },
            "text/plain": [
              "'SERIOUS FACE WITH SYMBOLS COVERING MOUTH new lines, many lettering sets 爱, and even emoji FACE WITH COWBOY HAT'"
            ]
          },
          "metadata": {
            "tags": []
          },
          "execution_count": 52
        }
      ]
    },
    {
      "cell_type": "code",
      "metadata": {
        "id": "dDCMDooVCKbD"
      },
      "source": [
        "# So let's write a function we can perform in our normalization pipeline.\n",
        "\n",
        "def emoji_in_context(text):\n",
        "  try:\n",
        "    return tprep.replace.emojis(text, lambda reMatch: unicodedata.name(reMatch[0]))\n",
        "  except:\n",
        "    return \"_EMOJI_\""
      ],
      "execution_count": null,
      "outputs": []
    },
    {
      "cell_type": "code",
      "metadata": {
        "id": "NP0Gb7SKwix0"
      },
      "source": [
        "# If Colab doesn't have Textacy installed:\n",
        "#!pip install textacy\n",
        "\n",
        "def normalize_pipeline(text, axis=1):\n",
        "  text = emoji_in_context(text)\n",
        "  text = re.sub(r\"[\\[\\](){}]\", \"\", text)\n",
        "  pipeline = tprep.make_pipeline(\n",
        "    tprep.normalize.repeating_chars,\n",
        "    tprep.normalize.quotation_marks,\n",
        "    tprep.remove.accents,\n",
        "    #tprep.remove.brackets, # Removes *content* inside [], {}, ()\n",
        "    tprep.replace.currency_symbols,\n",
        "    tprep.replace.urls,\n",
        "    tprep.replace.user_handles,\n",
        "    tprep.replace.emails,\n",
        "    tprep.replace.phone_numbers,\n",
        "    tprep.replace.numbers\n",
        "  )\n",
        "  return pipeline(text, chars=\".,!?\") # chars gets fed into tprep.normalize.repeating_chars\n",
        "\n",
        "df[\"normText\"] = df[\"text\"].apply(normalize_pipeline, axis=1)"
      ],
      "execution_count": null,
      "outputs": []
    },
    {
      "cell_type": "markdown",
      "metadata": {
        "id": "iLA-US4yVkJT"
      },
      "source": [
        "### Data Masking\n",
        "\n",
        "Presumably, through the above normalizations, the data should be masked, and we can move on to doing linguistic processing."
      ]
    },
    {
      "cell_type": "markdown",
      "metadata": {
        "id": "BBPFVU4CVugT"
      },
      "source": [
        "## Linguistic Processing with spaCy\n",
        "\n",
        "Linguistic processing is made up of four parts:\n",
        "\n",
        "* Tokenization\n",
        "* Part of speech tagging\n",
        "* Lemmatization\n",
        "* Named-entity recognition"
      ]
    },
    {
      "cell_type": "code",
      "metadata": {
        "colab": {
          "base_uri": "https://localhost:8080/"
        },
        "id": "faTfMIjIQtnF",
        "outputId": "d9887fc3-e2a0-4add-afbb-7629a7050986"
      },
      "source": [
        "spacy.cli.download(\"en_core_web_sm\")\n",
        "nlp = spacy.load(\"en_core_web_sm\")"
      ],
      "execution_count": null,
      "outputs": [
        {
          "output_type": "stream",
          "text": [
            "\u001b[38;5;2m✔ Download and installation successful\u001b[0m\n",
            "You can now load the package via spacy.load('en_core_web_sm')\n"
          ],
          "name": "stdout"
        }
      ]
    },
    {
      "cell_type": "code",
      "metadata": {
        "id": "T_7_W6NiRAHC"
      },
      "source": [
        "sample = df.sample(100)\n",
        "sample[\"spacyDoc\"] = sample[\"normText\"].apply(nlp)"
      ],
      "execution_count": 69,
      "outputs": []
    },
    {
      "cell_type": "code",
      "metadata": {
        "id": "PwRSrIUVXf7k"
      },
      "source": [
        ""
      ],
      "execution_count": null,
      "outputs": []
    }
  ]
}